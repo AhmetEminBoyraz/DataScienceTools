{
 "cells": [
  {
   "cell_type": "markdown",
   "id": "5343117f-bc8f-4da0-aa2d-f2aefd97e276",
   "metadata": {},
   "source": [
    "# TOOLS FOR DATA SCIENCE \n"
   ]
  },
  {
   "cell_type": "markdown",
   "id": "e46c06e4-7575-4492-8506-58998827e2e9",
   "metadata": {},
   "source": [
    "## Data Science Languages\n",
    " 1. Python\n",
    " 2. R\n",
    " 3. SQL\n",
    " 4. Java\n",
    " 5. Julia\n",
    " 6. Scala\n",
    " 7. C/C++\n",
    " 8. JavaScript"
   ]
  },
  {
   "cell_type": "markdown",
   "id": "999a76c4-a91a-43fd-819c-300c86ffa360",
   "metadata": {},
   "source": [
    "## Data Science Libraries\n",
    " 1. NumPy\n",
    " 2. Matplotlib\n",
    " 3. Pandas\n",
    " 4. SciPy\n",
    " 5. TensorFlow\n",
    " 6. PyTorch\n",
    " 7. SciKit-Learn\n",
    " 8. Keras\n",
    " 9. Seaborn"
   ]
  },
  {
   "cell_type": "markdown",
   "id": "87cc7a76-d6f8-443c-b8c9-f1673398d9df",
   "metadata": {},
   "source": [
    "## Data Science Tools\n",
    "##### Data Management Tools:\n",
    "My SQL, PostgreSQL, MongoDB, Apache CouchDB, Apache Cassandra, Hadoop File System, Ceph\n",
    "##### Data Integration and Transformation Tools:\n",
    "Apache AirFlow, KubeFlow, Apache Kafka, Apache Nifi, Apache SparkSQL, NodeRED\n",
    "##### Data Visualization Tools:\n",
    "Pixie Dust, Hue, Kibana, Apache Superset\n",
    "##### Model Deployment Tools:\n",
    "Apache PredictionIO, Seldon, Kubernetes, Redhat, OpenShift, Mleap, TensorFlow lite, TensorFlow dot JS\n",
    "##### Model Monitoring Tools:\n",
    "ModelDB, Prometheus, IBM AI Fairness 360, IBM Adversarial Robustness 360 Toolbox, IBM AI Explainability 360\n",
    "##### Code Asset Managetment Tools:\n",
    "Git, GitHub, GitLab, Bitbucket\n",
    "##### Data Asset Management Tools:\n",
    "Apache Atlas, ODPi Egeria, Kylo"
   ]
  },
  {
   "cell_type": "markdown",
   "id": "78070308-d761-40b4-9303-ab26fdc6feb8",
   "metadata": {},
   "source": [
    "## Arithmetic Expression\n",
    "```python\n",
    "Addition: 2+5\n",
    "Subtraction: 5-2\n",
    "Multiplication: 2*5\n",
    "Division: 220/7\n",
    "Quotient: 220//7\n",
    "Exponentiation: 2**3\n",
    "Remainder:100%17\n",
    "```\n",
    "```python\n",
    "Results: 7,3,10,(31,4285714),30,8,15\n",
    "```"
   ]
  },
  {
   "cell_type": "markdown",
   "id": "e991c02c-ae35-4623-a8df-e75a14f3ac5e",
   "metadata": {},
   "source": [
    "## Multiply and Add Numbers"
   ]
  },
  {
   "cell_type": "code",
   "execution_count": 1,
   "id": "125fcc8f-a051-47f8-8542-7228b2ae6d86",
   "metadata": {},
   "outputs": [
    {
     "data": {
      "text/plain": [
       "17"
      ]
     },
     "execution_count": 1,
     "metadata": {},
     "output_type": "execute_result"
    }
   ],
   "source": [
    "(2*5)+7"
   ]
  },
  {
   "cell_type": "markdown",
   "id": "c5f10f37-8279-45f8-98e9-8e0fb2d1ceff",
   "metadata": {},
   "source": [
    "## Convert Minutes To Hours"
   ]
  },
  {
   "cell_type": "code",
   "execution_count": 23,
   "id": "5c8f5d4d-370d-4d91-9d90-1fa1dbd41ec8",
   "metadata": {},
   "outputs": [
    {
     "data": {
      "text/plain": [
       "6.283333333333333"
      ]
     },
     "execution_count": 23,
     "metadata": {},
     "output_type": "execute_result"
    }
   ],
   "source": [
    "377/60"
   ]
  },
  {
   "cell_type": "markdown",
   "id": "c454ed08-a5f2-4949-9d92-5fd54a361516",
   "metadata": {},
   "source": [
    "### <B>Objectives</b>\n",
    "<b>List popular languages for Data Science</b>"
   ]
  },
  {
   "cell_type": "markdown",
   "id": "5a1b2151-32fc-429d-8bdf-bd3903eeae68",
   "metadata": {},
   "source": [
    "- Python\n",
    "-  R\n",
    "-  SQL\n",
    "-  Java\n",
    "-  Julia"
   ]
  },
  {
   "cell_type": "markdown",
   "id": "7a612b3f-f0f2-426a-b360-80644132b212",
   "metadata": {},
   "source": [
    "# Author\n",
    "AHMET EMIN BOYRAZ"
   ]
  },
  {
   "cell_type": "code",
   "execution_count": null,
   "id": "db93cdd1-3d87-414a-9362-b51279f567d4",
   "metadata": {},
   "outputs": [],
   "source": []
  }
 ],
 "metadata": {
  "kernelspec": {
   "display_name": "Python 3 (ipykernel)",
   "language": "python",
   "name": "python3"
  },
  "language_info": {
   "codemirror_mode": {
    "name": "ipython",
    "version": 3
   },
   "file_extension": ".py",
   "mimetype": "text/x-python",
   "name": "python",
   "nbconvert_exporter": "python",
   "pygments_lexer": "ipython3",
   "version": "3.11.7"
  }
 },
 "nbformat": 4,
 "nbformat_minor": 5
}
